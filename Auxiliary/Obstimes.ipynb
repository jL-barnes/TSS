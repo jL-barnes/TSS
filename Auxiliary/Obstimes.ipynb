{
 "cells": [
  {
   "cell_type": "markdown",
   "metadata": {},
   "source": [
    "# Create a file with Observation times"
   ]
  },
  {
   "cell_type": "markdown",
   "metadata": {},
   "source": [
    "We are going to create a file that contains the observation times and the passbands in which this happens. This notebook is only useful if this happens in regular intervals and regular order. One can always edit the output file manually."
   ]
  },
  {
   "cell_type": "code",
   "execution_count": 1,
   "metadata": {},
   "outputs": [],
   "source": [
    "import csv\n",
    "import numpy as np\n",
    "import matplotlib.pyplot as plt\n",
    "from scipy.interpolate import interp1d\n",
    "from astropy import units as u\n",
    "from astropy.time import Time\n",
    "from astropy.coordinates import SkyCoord, EarthLocation, AltAz\n",
    "from astroplan import Observer"
   ]
  },
  {
   "cell_type": "markdown",
   "metadata": {},
   "source": [
    "Let's first define the center of our observations and the size of the aperture"
   ]
  },
  {
   "cell_type": "code",
   "execution_count": 2,
   "metadata": {},
   "outputs": [],
   "source": [
    "RA_center =  \"14:00.00\"            #In hh:mm:ss\n",
    "DEC_center = \"20:00.00\"            #In DD:mm:ss\n",
    "RA_aperture = 3.0                  #Degrees\n",
    "DEC_aperture = 3.0                 #Degrees"
   ]
  },
  {
   "cell_type": "markdown",
   "metadata": {},
   "source": [
    "What's the location where to observe from?"
   ]
  },
  {
   "cell_type": "code",
   "execution_count": 3,
   "metadata": {},
   "outputs": [],
   "source": [
    "LocationName = 'Palomar'\n",
    "Location     =  EarthLocation.of_site(LocationName)\n",
    "Olson_tz     = 'America/Los_Angeles'              #From 'TZ': https://en.wikipedia.org/wiki/List_of_tz_database_time_zones\n",
    "#One can also define the location yourself\n",
    "#Location = EarthLocation(lat=-29.257409*u.deg, lon=-70.737954*u.deg, height=2400*u.m)"
   ]
  },
  {
   "cell_type": "markdown",
   "metadata": {},
   "source": [
    "Now you need to fill in some observational information"
   ]
  },
  {
   "cell_type": "code",
   "execution_count": 4,
   "metadata": {},
   "outputs": [],
   "source": [
    "Filename             = '../Obstimes.dat'         #The output file\n",
    "First_obs            = '2018-07-03T23:55:00.123456789' #In yyyy-mm-ddThh:mm:ss\n",
    "Passbands            = ['u', 'g', 'r', 'i']           #The passbands in the observing order\n",
    "Lowest_altitude      = 30                        #The limiting altitude for observations in degrees (due to airmass/obstacles etc.)\n",
    "Nights               = [0,1,2,3,4,5]             #List of nights on which to observe. Can also be a numpy.linspace array.\n",
    "Max_nr_obs_per_night = 4                         #Maximum numer of observation cycles per night\n",
    "Filtertime           = 1 * u.min                 #Time between observations of two filters\n",
    "Cadence              = 1 * u.hour                #Time between two consecutive observations in the same night in the same filter\n",
    "Immediate            = True                      #Observe immediately after sunset on the 2nd,3rd,4th,... nights\n",
    "Sun_below_horizon    = -6                        #[-6, -12, -18] in degrees. How many degrees the Sun needs to be below the horizon to observe"
   ]
  },
  {
   "cell_type": "markdown",
   "metadata": {},
   "source": [
    "Convert the amount of degrees the Sun should be below the horizon to an evening type that astroplan.Observer understands"
   ]
  },
  {
   "cell_type": "code",
   "execution_count": 5,
   "metadata": {},
   "outputs": [],
   "source": [
    "Observatory = Observer(location=Location, name=LocationName, timezone=Olson_tz)\n",
    "if Sun_below_horizon == -6:\n",
    "    twilight_evening = Observatory.twilight_evening_civil\n",
    "    twilight_morning = Observatory.twilight_morning_civil\n",
    "elif Sun_below_horizon == -12:\n",
    "    twilight_evening = Observatory.twilight_evening_nautical\n",
    "    twilight_morning = Observatory.twilight_morning_nautical\n",
    "elif Sun_below_horizon == -18:\n",
    "    twilight_evening = Observatory.twilight_evening_astronomical\n",
    "    twilight_morning = Observatory.twilight_morning_astronomical\n",
    "else:\n",
    "    print \"please enter a correct answer at the Sun_below_horizon parameter above. Choose from [-6, -12, -18]\""
   ]
  },
  {
   "cell_type": "markdown",
   "metadata": {},
   "source": [
    "Let's generate an array with times in Julian Date"
   ]
  },
  {
   "cell_type": "code",
   "execution_count": 6,
   "metadata": {},
   "outputs": [],
   "source": [
    "Coords_c = SkyCoord(RA_center + ' ' + DEC_center, unit=(u.hourangle, u.deg))\n",
    "time = Time(First_obs, format='isot', scale='utc')\n",
    "Times = np.linspace(time.jd, time.jd + Nights[-1]+1, 1000 * Nights[-1])\n",
    "Times_utc = Time(Times, format='jd', scale='utc')\n",
    "Times_isot = Times_utc.isot"
   ]
  },
  {
   "cell_type": "markdown",
   "metadata": {},
   "source": [
    "And a list with times when the night starts and ends"
   ]
  },
  {
   "cell_type": "code",
   "execution_count": 7,
   "metadata": {},
   "outputs": [],
   "source": [
    "Night_starts = []\n",
    "Night_ends = []\n",
    "\n",
    "Night = twilight_evening(time =Times_utc[0], which='nearest')\n",
    "if Times[0] > Night.jd:\n",
    "    Night = Times_utc[0]\n",
    "Night_starts.append(Night.jd)\n",
    "Morning = twilight_morning(time =Times_utc[0], which='next')\n",
    "Night_ends.append(Morning.jd)\n",
    "\n",
    "while Night.jd < Times[-1] and Morning.jd < Times[-1]:\n",
    "    Night   = twilight_evening(time =Night, which='next')\n",
    "    Morning = twilight_morning(time =Night, which='next')\n",
    "    Night_starts.append(Night.jd)\n",
    "    Night_ends.append(Morning.jd)"
   ]
  },
  {
   "cell_type": "markdown",
   "metadata": {},
   "source": [
    "Now we're going to select the times when one can observe the patch in the sky given its position on the sky at the observatory. This is stored in the array 'Possible'"
   ]
  },
  {
   "cell_type": "code",
   "execution_count": 8,
   "metadata": {},
   "outputs": [
    {
     "data": {
      "image/png": "[encoded data removed]",
      "text/plain": [
       "<matplotlib.figure.Figure at 0x7f43f37ce310>"
      ]
     },
     "metadata": {},
     "output_type": "display_data"
    }
   ],
   "source": [
    "Altitudes = Coords_c.transform_to(AltAz(obstime=Times_isot, location=Location)).alt.deg\n",
    "\n",
    "Bool1 = np.array(Altitudes > Lowest_altitude)\n",
    "Bool2 = np.zeros(len(Bool1), dtype = bool)\n",
    "for i in range(len(Night_ends)):\n",
    "    Bool2 = Bool2 + np.array(Times < Night_ends[i]) *  np.array(Times > Night_starts[i])\n",
    "Possible =  Bool1 * Bool2    #When is it possible to observe this patch?\n",
    "\n",
    "if len(Possible) == 0: print \"These coordinates are not observable during these nights!!!!\"\n",
    "\n",
    "#Interpol = interp1d(Times, Altitudes)\n",
    "\n",
    "\n",
    "plt.scatter(Times[Possible], Altitudes[Possible], s=1, color = 'b')\n",
    "plt.scatter(Times[~Possible], Altitudes[~Possible], s=1, color = 'grey')\n",
    "plt.plot([Times[0]-1, Times[-1]+1], [Lowest_altitude, Lowest_altitude], '--')\n",
    "for i in range(len(Night_ends)):\n",
    "    Boolean =  np.array(Times < Night_ends[i]) *  np.array(Times > Night_starts[i])\n",
    "    plt.fill_between(Times, min(Altitudes), 90,\n",
    "                 Boolean, color='0.9', zorder=0)\n",
    "\n",
    "plt.xlabel('JD')\n",
    "plt.ylabel('altitude (deg)')\n",
    "plt.show()"
   ]
  },
  {
   "cell_type": "markdown",
   "metadata": {},
   "source": [
    "We'll define two functions to know what the first and last moments are on which one can observe in a certain night"
   ]
  },
  {
   "cell_type": "code",
   "execution_count": 9,
   "metadata": {},
   "outputs": [],
   "source": [
    "def FirstPossibleObs(Nightnr):\n",
    "    This_night_start = Night_starts[Nightnr]\n",
    "    Time_TNS = Time(This_night_start, format='jd', scale='utc')\n",
    "    Rise_time = Observatory.target_rise_time(Time_TNS, Coords_c, which='nearest', horizon = Lowest_altitude * u.deg)\n",
    "    return max(This_night_start, Rise_time.jd)\n",
    "\n",
    "\n",
    "def LastPossibleObs(Nightnr):\n",
    "    This_night_end = Night_ends[Nightnr]\n",
    "    This_night_start = Night_starts[Nightnr]\n",
    "    Time_TNS = Time(This_night_start, format='jd', scale='utc')\n",
    "    Rise_time = Observatory.target_rise_time(Time_TNS, Coords_c, which='nearest', horizon = Lowest_altitude * u.deg)\n",
    "    Set_time = Observatory.target_set_time(Rise_time, Coords_c, which='next', horizon = Lowest_altitude * u.deg)\n",
    "    return min(Set_time.jd, This_night_end)"
   ]
  },
  {
   "cell_type": "markdown",
   "metadata": {},
   "source": [
    "We need a function that simply checks whether our coordinates are well observable at a given time"
   ]
  },
  {
   "cell_type": "code",
   "execution_count": 10,
   "metadata": {},
   "outputs": [],
   "source": [
    "def Observable(TIME, Nightnr):\n",
    "    First = FirstPossibleObs(Nightnr)\n",
    "    Last  = LastPossibleObs(Nightnr)\n",
    "    return TIME >= First and TIME <= Last"
   ]
  },
  {
   "cell_type": "markdown",
   "metadata": {},
   "source": [
    "Let's now generate a list with our observation times. We will start at the first possible observation time.  We will try to add as many observations on that night as possible, but taking the maximum number of observations per night into account. The next night observations start at either when the field rises above minimum altitude (when Immediate==True), or at the same time on the night as the first observation."
   ]
  },
  {
   "cell_type": "code",
   "execution_count": 11,
   "metadata": {},
   "outputs": [
    {
     "name": "stdout",
     "output_type": "stream",
     "text": [
      "Calculating observations for night  0\n",
      "Calculating observations for night  1\n",
      "Calculating observations for night  2\n",
      "Calculating observations for night  3\n",
      "Calculating observations for night  4\n",
      "Calculating observations for night  5\n"
     ]
    }
   ],
   "source": [
    "Colors = Passbands\n",
    "Ftime = Filtertime.to(u.day).value\n",
    "NotFinished = True\n",
    "NotObservable = True\n",
    "Obslist  = []\n",
    "Obscolor = []\n",
    "NightNr = 0\n",
    "Obs_this_night = 0\n",
    "\n",
    "First = FirstPossibleObs(NightNr)\n",
    "for i,C in enumerate(Colors):\n",
    "    Otime = First + i * Ftime\n",
    "    if Observable(Otime, NightNr):\n",
    "        Obslist.append(Otime)\n",
    "        Obscolor.append(C)\n",
    "if len(Obslist) > 0: Obs_this_night +=1\n",
    "        \n",
    "NewTime = First\n",
    "First_obs_this_night = First\n",
    "while NightNr < len(Nights):\n",
    "    print \"Calculating observations for night \", Nights[NightNr]\n",
    "    if Immediate:\n",
    "        NewTime = FirstPossibleObs(NightNr)\n",
    "    else:\n",
    "        NewTime = First + Nights[NightNr]\n",
    "    First_obs_this_night = NewTime\n",
    "    while Obs_this_night < Max_nr_obs_per_night:\n",
    "        NewTime += Cadence.to(u.day).value * Obs_this_night\n",
    "        if NewTime > LastPossibleObs(NightNr): break\n",
    "        Observed_this = False\n",
    "        for i,C in enumerate(Colors):\n",
    "            Otime = NewTime + i * Ftime\n",
    "            if Observable(Otime, NightNr):\n",
    "                Obslist.append(Otime)\n",
    "                Obscolor.append(C)\n",
    "                Observed_this = True\n",
    "        if Observed_this: Obs_this_night +=1\n",
    "        #else: NewTime = FirstPossibleObs(NightNr)         #Not visible at original observing time. Reverting to first possible time\n",
    "    NightNr +=1\n",
    "    Obs_this_night = 0"
   ]
  },
  {
   "cell_type": "code",
   "execution_count": 12,
   "metadata": {},
   "outputs": [],
   "source": [
    "f = open(Filename, 'wb' )\n",
    "cwr = csv.writer( f, delimiter = '\\t' )\n",
    "Loc = 'N %s E %s' % (str(Location.lat),str(Location.lon))\n",
    "cwr.writerow([LocationName, Loc])\n",
    "cwr.writerow(['JD', 'filter'])\n",
    "cwr.writerows(np.array([Obslist,Obscolor]).T)\n",
    "f.close()"
   ]
  },
  {
   "cell_type": "code",
   "execution_count": null,
   "metadata": {},
   "outputs": [],
   "source": []
  }
 ],
 "metadata": {
  "kernelspec": {
   "display_name": "Python [conda env:anaconda2]",
   "language": "python",
   "name": "conda-env-anaconda2-py"
  },
  "language_info": {
   "codemirror_mode": {
    "name": "ipython",
    "version": 2
   },
   "file_extension": ".py",
   "mimetype": "text/x-python",
   "name": "python",
   "nbconvert_exporter": "python",
   "pygments_lexer": "ipython2",
   "version": "2.7.11"
  }
 },
 "nbformat": 4,
 "nbformat_minor": 2
}
