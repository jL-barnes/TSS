{
 "cells": [
  {
   "cell_type": "markdown",
   "metadata": {},
   "source": [
    "# Create a file with Observation details"
   ]
  },
  {
   "cell_type": "markdown",
   "metadata": {},
   "source": [
    "We are going to create a file that contains the observation times, the RA/DEC centers and the passbands in which this happens. This notebook is only useful if this happens in regular intervals and regular order. One can always edit the output file and enter all observation times, filters and RA/DEC centers manually.\n",
    "This is NOT supposed to be a planner to maximize kilonova yield. If you have a better observation plan, please mold your observation plan into the output of this file (Obstimes.dat)"
   ]
  },
  {
   "cell_type": "code",
   "execution_count": 1,
   "metadata": {},
   "outputs": [
    {
     "name": "stderr",
     "output_type": "stream",
     "text": [
      "WARNING: OldEarthOrientationDataWarning: Your version of the IERS Bulletin A is 20.4 days old. For best precision (on the order of arcseconds), you must download an up-to-date IERS Bulletin A table. To do so, run:\n",
      "\n",
      ">>> from astroplan import download_IERS_A\n",
      ">>> download_IERS_A()\n",
      " [astroplan.utils]\n"
     ]
    }
   ],
   "source": [
    "import csv\n",
    "import numpy as np\n",
    "import matplotlib.pyplot as plt\n",
    "from scipy.interpolate import interp1d\n",
    "from astropy import units as u\n",
    "from astropy.time import Time\n",
    "from astropy.coordinates import SkyCoord, EarthLocation, AltAz\n",
    "from astroplan import Observer"
   ]
  },
  {
   "cell_type": "markdown",
   "metadata": {},
   "source": [
    "Let's first define the center of our observations and the size of the aperture\n",
    "RA_center contains the center RA coordinates of the fields that are used, DEC_center contains the center DEC coordinates.\n",
    "These are in hh:mm:ss and DD:mm:SS. We assume an equatorial mount with the CCD aligned such that its northern and southern border line up with the declination boundaries: at those borders the declination is constant.\n",
    "Please don't let the poles be INSIDE the aperture."
   ]
  },
  {
   "cell_type": "code",
   "execution_count": 2,
   "metadata": {},
   "outputs": [],
   "source": [
    "RA_center =  [\"14:00.00\", \"14:20.00\"]            #In hh:mm:ss    #We assume an equatorial mount!!!\n",
    "DEC_center = [\"80:00.00\", \"80:10.00\"]            #In DD:mm:ss\n",
    "RA_aperture = 3.0                  #Degrees\n",
    "DEC_aperture = 3.0                 #Degrees\n",
    "#RectangularAperture of https://photutils.readthedocs.io/en/stable/_modules/photutils/aperture/rectangle.html#SkyRectangularAperture"
   ]
  },
  {
   "cell_type": "markdown",
   "metadata": {},
   "source": [
    "What's the location where to observe from?"
   ]
  },
  {
   "cell_type": "code",
   "execution_count": 3,
   "metadata": {},
   "outputs": [],
   "source": [
    "LocationName = 'Palomar'\n",
    "Location     =  EarthLocation.of_site(LocationName)\n",
    "Olson_tz     = 'America/Los_Angeles'              #From 'TZ': https://en.wikipedia.org/wiki/List_of_tz_database_time_zones\n",
    "#One can also define the location yourself\n",
    "#Location = EarthLocation(lat=-29.257409*u.deg, lon=-70.737954*u.deg, height=2400*u.m)"
   ]
  },
  {
   "cell_type": "markdown",
   "metadata": {},
   "source": [
    "Now you need to fill in some observational information."
   ]
  },
  {
   "cell_type": "code",
   "execution_count": 4,
   "metadata": {},
   "outputs": [],
   "source": [
    "Filename             = '../Obstimes_simple.dat'         #The output file\n",
    "First_obs            = '2018-07-03T23:55:00.123456789' #In yyyy-mm-ddThh:mm:ss\n",
    "Passbands            = ['u']           #The passbands in the observing order\n",
    "Lowest_altitude      = 30                        #The limiting altitude for observations in degrees (due to airmass/obstacles etc.)\n",
    "Nights               = [0,1]             #List of nights on which to observe. Can also be a numpy array.\n",
    "Max_nr_obs_per_night = 2                         #Maximum numer of observation cycles per night\n",
    "Filtertime           = 1 * u.min                 #Time between observations of two filters\n",
    "Cadence              = 1 * u.hour                #Time between two consecutive observations in the same night in the same filter of the same field\n",
    "Immediate            = True                      #Observe immediately after sunset on the 2nd,3rd,4th,... nights\n",
    "Sun_below_horizon    = -6                        #[-6, -12, -18] in degrees. How many degrees the Sun needs to be below the horizon to observe\n",
    "Nr_frames            = len(RA_center)"
   ]
  },
  {
   "cell_type": "markdown",
   "metadata": {},
   "source": [
    "Check whether everything is okay"
   ]
  },
  {
   "cell_type": "code",
   "execution_count": 5,
   "metadata": {},
   "outputs": [
    {
     "name": "stdout",
     "output_type": "stream",
     "text": [
      "Everything is okay!\n"
     ]
    }
   ],
   "source": [
    "if Filtertime * len(Passbands) * Nr_frames > Cadence:\n",
    "    print \"Error: please either lower the filtertime or make the cadence longer. You won't be able to go through all filters + all frames now before finishing the observation list\"\n",
    "else:\n",
    "    print \"Everything is okay!\""
   ]
  },
  {
   "cell_type": "markdown",
   "metadata": {},
   "source": [
    "Convert the amount of degrees the Sun should be below the horizon to an evening type that astroplan.Observer understands"
   ]
  },
  {
   "cell_type": "code",
   "execution_count": 6,
   "metadata": {},
   "outputs": [],
   "source": [
    "Observatory = Observer(location=Location, name=LocationName, timezone=Olson_tz)\n",
    "if Sun_below_horizon == -6:\n",
    "    twilight_evening = Observatory.twilight_evening_civil\n",
    "    twilight_morning = Observatory.twilight_morning_civil\n",
    "elif Sun_below_horizon == -12:\n",
    "    twilight_evening = Observatory.twilight_evening_nautical\n",
    "    twilight_morning = Observatory.twilight_morning_nautical\n",
    "elif Sun_below_horizon == -18:\n",
    "    twilight_evening = Observatory.twilight_evening_astronomical\n",
    "    twilight_morning = Observatory.twilight_morning_astronomical\n",
    "else:\n",
    "    print \"please enter a correct answer at the Sun_below_horizon parameter above. Choose from [-6, -12, -18]\""
   ]
  },
  {
   "cell_type": "markdown",
   "metadata": {},
   "source": [
    "Let's generate an array with times in Julian Date"
   ]
  },
  {
   "cell_type": "code",
   "execution_count": 7,
   "metadata": {},
   "outputs": [],
   "source": [
    "Coords_c = [SkyCoord(RA_center[i] + ' ' + DEC_center[i], unit=(u.hourangle, u.deg)) for i in range(Nr_frames)]\n",
    "time = Time(First_obs, format='isot', scale='utc')\n",
    "Times = np.linspace(time.jd, time.jd + Nights[-1]+1, 1000 * Nights[-1])\n",
    "Times_utc = Time(Times, format='jd', scale='utc')\n",
    "Times_isot = Times_utc.isot"
   ]
  },
  {
   "cell_type": "markdown",
   "metadata": {},
   "source": [
    "And a list with times when the night starts and ends"
   ]
  },
  {
   "cell_type": "code",
   "execution_count": 8,
   "metadata": {},
   "outputs": [],
   "source": [
    "Night_starts = []\n",
    "Night_ends = []\n",
    "\n",
    "Night = twilight_evening(time =Times_utc[0], which='nearest')\n",
    "if Times[0] > Night.jd:\n",
    "    Night = Times_utc[0]\n",
    "Night_starts.append(Night.jd)\n",
    "Morning = twilight_morning(time =Times_utc[0], which='next')\n",
    "Night_ends.append(Morning.jd)\n",
    "\n",
    "while Night.jd < Times[-1] and Morning.jd < Times[-1]:\n",
    "    Night   = twilight_evening(time =Night, which='next')\n",
    "    Morning = twilight_morning(time =Night, which='next')\n",
    "    Night_starts.append(Night.jd)\n",
    "    Night_ends.append(Morning.jd)"
   ]
  },
  {
   "cell_type": "markdown",
   "metadata": {},
   "source": [
    "Now we're going to select the times when one can observe the patch in the sky given its position on the sky at the observatory. This is stored in the array 'Possible'. The following three steps are only needed to plot the times when it is possible to observe + the altitude of the center of the frame."
   ]
  },
  {
   "cell_type": "code",
   "execution_count": 9,
   "metadata": {},
   "outputs": [],
   "source": [
    "def Obs_possible(Center):\n",
    "    Altitudes = Center.transform_to(AltAz(obstime=Times_isot, location=Location)).alt.deg\n",
    "\n",
    "    Bool1 = np.array(Altitudes > Lowest_altitude)\n",
    "    Bool2 = np.zeros(len(Bool1), dtype = bool)\n",
    "    for i in range(len(Night_ends)):\n",
    "        Bool2 = Bool2 + np.array(Times < Night_ends[i]) *  np.array(Times > Night_starts[i])\n",
    "    Possible =  Bool1 * Bool2    #When is it possible to observe this patch?\n",
    "\n",
    "    if len(Possible) == 0: print \"The following coordinates are not observable during these nights!!!!\", Center\n",
    "    return Altitudes, Possible"
   ]
  },
  {
   "cell_type": "markdown",
   "metadata": {},
   "source": [
    "Calculate the possible observing times and corresponding altitudes"
   ]
  },
  {
   "cell_type": "code",
   "execution_count": 10,
   "metadata": {},
   "outputs": [],
   "source": [
    "Altitudes, Possible_times = [],[]\n",
    "for i in range(Nr_frames):\n",
    "    A, B = Obs_possible(Coords_c[i])\n",
    "    Altitudes.append(A)\n",
    "    Possible_times.append(B)"
   ]
  },
  {
   "cell_type": "markdown",
   "metadata": {},
   "source": [
    "Plot one of them (the qth)"
   ]
  },
  {
   "cell_type": "code",
   "execution_count": 11,
   "metadata": {},
   "outputs": [
    {
     "data": {
      "image/png": "[encoded data removed]",
      "text/plain": [
       "<matplotlib.figure.Figure at 0x7f88f1805950>"
      ]
     },
     "metadata": {},
     "output_type": "display_data"
    }
   ],
   "source": [
    "q = 0       #The qth frame for which you'd like to see the possible times plotted\n",
    "plt.scatter(Times[Possible_times[q]], Altitudes[q][Possible_times[q]], s=1, color = 'b')\n",
    "plt.scatter(Times[~Possible_times[q]], Altitudes[q][~Possible_times[q]], s=1, color = 'grey')\n",
    "plt.plot([Times[0]-1, Times[-1]+1], [Lowest_altitude, Lowest_altitude], '--')\n",
    "for i in range(len(Night_ends)):\n",
    "    Boolean =  np.array(Times < Night_ends[i]) *  np.array(Times > Night_starts[i])\n",
    "    plt.fill_between(Times, min(Altitudes[q]), 90,\n",
    "                 Boolean, color='0.9', zorder=0)\n",
    "\n",
    "plt.xlabel('JD')\n",
    "plt.ylabel('altitude (deg)')\n",
    "plt.show()"
   ]
  },
  {
   "cell_type": "markdown",
   "metadata": {},
   "source": [
    "We'll define two functions to know what the first and last moments are on which one can observe in a certain night"
   ]
  },
  {
   "cell_type": "code",
   "execution_count": 12,
   "metadata": {},
   "outputs": [],
   "source": [
    "def FirstPossibleObs(Nightnr, framenr):\n",
    "    This_night_start = Night_starts[Nightnr]\n",
    "    Time_TNS = Time(This_night_start, format='jd', scale='utc')\n",
    "    Center = Coords_c[framenr]\n",
    "    Rise_time = Observatory.target_rise_time(Time_TNS, Center, which='nearest', horizon = Lowest_altitude * u.deg)\n",
    "    return max(This_night_start, Rise_time.jd)\n",
    "\n",
    "\n",
    "def LastPossibleObs(Nightnr, framenr):\n",
    "    This_night_end = Night_ends[Nightnr]\n",
    "    This_night_start = Night_starts[Nightnr]\n",
    "    Center = Coords_c[framenr]\n",
    "    Time_TNS = Time(This_night_start, format='jd', scale='utc')\n",
    "    Rise_time = Observatory.target_rise_time(Time_TNS, Center, which='nearest', horizon = Lowest_altitude * u.deg)\n",
    "    Set_time = Observatory.target_set_time(Rise_time, Center, which='next', horizon = Lowest_altitude * u.deg)\n",
    "    return min(Set_time.jd, This_night_end)"
   ]
  },
  {
   "cell_type": "markdown",
   "metadata": {},
   "source": [
    "We need a function that simply checks whether our coordinates are well observable at a given time"
   ]
  },
  {
   "cell_type": "code",
   "execution_count": 13,
   "metadata": {},
   "outputs": [],
   "source": [
    "def Observable(TIME, Nightnr, framenr):\n",
    "    First = FirstPossibleObs(Nightnr, framenr)\n",
    "    Last  = LastPossibleObs(Nightnr, framenr)\n",
    "    return TIME >= First and TIME <= Last"
   ]
  },
  {
   "cell_type": "markdown",
   "metadata": {},
   "source": [
    "Let's now generate a list with our observation times. We will start at the first possible observation time.  We will try to add as many observations on that night as possible, but taking the maximum number of observations per night into account. The next night observations start at either when the field rises above minimum altitude (when Immediate==True), or at the same time on the night as the first observation."
   ]
  },
  {
   "cell_type": "code",
   "execution_count": 14,
   "metadata": {},
   "outputs": [
    {
     "name": "stdout",
     "output_type": "stream",
     "text": [
      "Calculating observations for night  0\n",
      "hello\n",
      "Calculating observations for night  1\n",
      "hello\n"
     ]
    }
   ],
   "source": [
    "Colors   = Passbands\n",
    "Ftime    = Filtertime.to(u.day).value\n",
    "if Cadence < len(Passbands) * len(RA_center) * Filtertime:\n",
    "    Cadence = (len(Passbands) * len(RA_center) + 1.) * Filtertime\n",
    "cadence  = Cadence.to(u.day).value\n",
    "NotFinished = True\n",
    "NotObservable = True\n",
    "Obslist  = []\n",
    "Obscolor = []    #The filter color\n",
    "ObsRAc   = []    #The frame RA center\n",
    "ObsDECc  = []    #The frame DEC center\n",
    "NightNr  = 0\n",
    "Obs_this_night = 0\n",
    "Frame_nr = 0\n",
    "\n",
    "First = FirstPossibleObs(NightNr, Frame_nr)\n",
    "while Frame_nr < Nr_frames:\n",
    "    for i,C in enumerate(Colors):\n",
    "        Otime = First + i * Ftime + len(Colors) * Frame_nr * Ftime\n",
    "        if Observable(Otime, NightNr, Frame_nr):\n",
    "            Obslist.append(Otime)\n",
    "            Obscolor.append(C)\n",
    "            ObsRAc.append( RA_center[Frame_nr] )\n",
    "            ObsDECc.append( DEC_center[Frame_nr] )\n",
    "    Frame_nr+=1\n",
    "if len(Obslist) > 0: \n",
    "    Obs_this_night +=1\n",
    "Frame_nr = 0\n",
    "        \n",
    "NewTime = First\n",
    "First_obs_this_night = First\n",
    "while NightNr < len(Nights):\n",
    "    print \"Calculating observations for night \", Nights[NightNr]\n",
    "    if Immediate:\n",
    "        NewTime = FirstPossibleObs(NightNr, Frame_nr)\n",
    "        print \"hello\"\n",
    "    else:\n",
    "        NewTime = First + Nights[NightNr]\n",
    "    First_obs_this_night = NewTime\n",
    "    while Obs_this_night < Max_nr_obs_per_night:\n",
    "        while Frame_nr < Nr_frames:\n",
    "            Time_Frame = NewTime + cadence * Obs_this_night + Ftime * (len(Colors) * Frame_nr)\n",
    "            if Time_Frame > LastPossibleObs(NightNr, Frame_nr): break\n",
    "            Observed_this = False\n",
    "            for i,C in enumerate(Colors):\n",
    "                Otime = Time_Frame + i * Ftime \n",
    "                if Observable(Otime, NightNr, Frame_nr):\n",
    "                    Obslist.append(Otime)\n",
    "                    Obscolor.append(C)\n",
    "                    ObsRAc.append( RA_center[Frame_nr] )\n",
    "                    ObsDECc.append( DEC_center[Frame_nr] )\n",
    "                    Observed_this = True\n",
    "            Frame_nr += 1\n",
    "        Frame_nr = 0\n",
    "        if Observed_this: \n",
    "            Obs_this_night +=1\n",
    "    NightNr +=1\n",
    "    Obs_this_night = 0"
   ]
  },
  {
   "cell_type": "code",
   "execution_count": 15,
   "metadata": {},
   "outputs": [],
   "source": [
    "f = open(Filename, 'wb' )\n",
    "cwr = csv.writer( f, delimiter = '\\t' )\n",
    "Loc = 'N %s E %s' % (str(Location.lat),str(Location.lon))\n",
    "cwr.writerow([LocationName, Loc])\n",
    "cwr.writerow(['JD', 'filter', 'RA_center (hh:mm:ss)', 'DEC_center (dd:mm:ss)'])\n",
    "cwr.writerows(np.array([Obslist, Obscolor, ObsRAc, ObsDECc]).T)\n",
    "f.close()"
   ]
  },
  {
   "cell_type": "code",
   "execution_count": null,
   "metadata": {},
   "outputs": [],
   "source": []
  },
  {
   "cell_type": "code",
   "execution_count": null,
   "metadata": {},
   "outputs": [],
   "source": []
  },
  {
   "cell_type": "code",
   "execution_count": null,
   "metadata": {},
   "outputs": [],
   "source": []
  }
 ],
 "metadata": {
  "kernelspec": {
   "display_name": "Python [conda env:anaconda2]",
   "language": "python",
   "name": "conda-env-anaconda2-py"
  },
  "language_info": {
   "codemirror_mode": {
    "name": "ipython",
    "version": 2
   },
   "file_extension": ".py",
   "mimetype": "text/x-python",
   "name": "python",
   "nbconvert_exporter": "python",
   "pygments_lexer": "ipython2",
   "version": "2.7.14"
  }
 },
 "nbformat": 4,
 "nbformat_minor": 2
}
